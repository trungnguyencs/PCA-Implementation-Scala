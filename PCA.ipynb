{
 "cells": [
  {
   "cell_type": "code",
   "execution_count": 35,
   "metadata": {
    "colab": {
     "base_uri": "https://localhost:8080/",
     "height": 34
    },
    "colab_type": "code",
    "executionInfo": {
     "elapsed": 411,
     "status": "ok",
     "timestamp": 1558223706757,
     "user": {
      "displayName": "Trung Nguyen",
      "photoUrl": "https://lh3.googleusercontent.com/-SBogivorgz8/AAAAAAAAAAI/AAAAAAAAADk/9nq_Lw1GTw4/s64/photo.jpg",
      "userId": "08914153943672383446"
     },
     "user_tz": 420
    },
    "id": "Zsw6gID2zN1j",
    "outputId": "5eb998a0-8739-4f02-f9de-2f0d50221b6d"
   },
   "outputs": [],
   "source": [
    "import numpy as np\n",
    "\n",
    "# Generate data input\n",
    "np.random.seed(2019)\n",
    "dim = 4\n",
    "total_sample = 100\n",
    "total_class = 2\n",
    "reduce_dim = 2\n",
    "data = []\n",
    "\n",
    "for i in range(total_class):\n",
    "  mean_vec = np.ones(dim)*i\n",
    "  cov_mat = np.identity(dim)\n",
    "  class_sample = np.random.multivariate_normal(mean_vec, cov_mat, total_sample).T\n",
    "  data.append(class_sample)\n",
    "data = np.asarray(data)\n",
    "\n",
    "# Ignoring class label\n",
    "data_stack = np.reshape(data, (dim, total_class*total_sample))\n",
    "np.savetxt(str(dim) + '_' + str(total_sample) + '_' + str(total_class) + '_' + str(reduce_dim) + '.csv', data_stack, delimiter=',')\n",
    "\n",
    "print(np.shape(data_stack))"
   ]
  },
  {
   "cell_type": "code",
   "execution_count": 39,
   "metadata": {},
   "outputs": [
    {
     "ename": "NameError",
     "evalue": "name 'main' is not defined",
     "output_type": "error",
     "traceback": [
      "\u001b[0;31m---------------------------------------------------------------------------\u001b[0m",
      "\u001b[0;31mNameError\u001b[0m                                 Traceback (most recent call last)",
      "\u001b[0;32m<ipython-input-39-8e08ca636eba>\u001b[0m in \u001b[0;36m<module>\u001b[0;34m()\u001b[0m\n\u001b[1;32m      1\u001b[0m \u001b[0;32mimport\u001b[0m \u001b[0mtime\u001b[0m\u001b[0;34m\u001b[0m\u001b[0m\n\u001b[1;32m      2\u001b[0m \u001b[0mstart_time\u001b[0m \u001b[0;34m=\u001b[0m \u001b[0mtime\u001b[0m\u001b[0;34m.\u001b[0m\u001b[0mtime\u001b[0m\u001b[0;34m(\u001b[0m\u001b[0;34m)\u001b[0m\u001b[0;34m\u001b[0m\u001b[0m\n\u001b[0;32m----> 3\u001b[0;31m \u001b[0mmain\u001b[0m\u001b[0;34m(\u001b[0m\u001b[0;34m)\u001b[0m\u001b[0;34m\u001b[0m\u001b[0m\n\u001b[0m\u001b[1;32m      4\u001b[0m \u001b[0;32mprint\u001b[0m\u001b[0;34m(\u001b[0m\u001b[0;34m\"--- %s seconds ---\"\u001b[0m \u001b[0;34m%\u001b[0m \u001b[0;34m(\u001b[0m\u001b[0mtime\u001b[0m\u001b[0;34m.\u001b[0m\u001b[0mtime\u001b[0m\u001b[0;34m(\u001b[0m\u001b[0;34m)\u001b[0m \u001b[0;34m-\u001b[0m \u001b[0mstart_time\u001b[0m\u001b[0;34m)\u001b[0m\u001b[0;34m)\u001b[0m\u001b[0;34m\u001b[0m\u001b[0m\n\u001b[1;32m      5\u001b[0m \u001b[0;34m\u001b[0m\u001b[0m\n",
      "\u001b[0;31mNameError\u001b[0m: name 'main' is not defined"
     ]
    }
   ],
   "source": [
    "import time\n",
    "start_time = time.time()\n",
    "main()\n",
    "print(\"--- %s seconds ---\" % (time.time() - start_time))\n",
    "\n",
    "import numpy as np\n",
    "import pandas as pd\n",
    "\n",
    "def main():\n",
    "    fname = '4_100_2_2.csv'\n",
    "    data_stack = pd.read_csv(fname, header = None)\n",
    "    data_stack = data_stack.values\n",
    "\n",
    "\n",
    "    dim = int(fname.split('.')[0].split('_')[0])\n",
    "    total_sample = int(fname.split('.')[0].split('_')[1])\n",
    "    total_class = int(fname.split('.')[0].split('_')[2])\n",
    "    reduce_dim = int(fname.split('.')[0].split('_')[3])\n",
    "\n",
    "    print('Number of dimmensions: ' + str(dim))\n",
    "    print('Number of samples in each class: ' + str(total_sample))\n",
    "    print('Number of classes: ' + str(total_class))\n",
    "    print('Number of reduced dimmensions: ' + str(reduce_dim))\n",
    "    print('All data shape: ' + str(data_stack.shape[1]) + ' rows, ' + str(data_stack.shape[0]) + ' columns')\n",
    "\n",
    "    # Geting the mean vector\n",
    "    mean_vec = np.average(data_stack, axis=1)\n",
    "    print('Mean vector:\\n' + str(mean_vec))\n",
    "\n",
    "    # Computing the Scatter Matrix\n",
    "    scatter_mat = np.zeros((dim,dim))\n",
    "    for i in range(dim):\n",
    "        scatter_mat += (data_stack[:,i].reshape(dim,1) - mean_vec).dot((data_stack[:,i].reshape(dim,1) - mean_vec).T)\n",
    "    print('Scatter Matrix:\\n' + str(scatter_mat))\n",
    "\n",
    "    # Computing the Eigenvalues and Eigenvectors\n",
    "    eig_val, eig_mat = np.linalg.eig(scatter_mat)\n",
    "    print('Eigenvalues:\\n' + str(eig_val))\n",
    "    print('Eigenvectors:\\n' + str(eig_mat))\n",
    "\n",
    "    # Sort the Eigenvalues in decreasing order\n",
    "    np.argsort(np.abs(eig_val))[::-1]\n",
    "\n",
    "    # Reduce (reduce_dim) dimensions: Take only (dim-reduce_dim) scatter vectors to put in the new eigen matrix\n",
    "    new_eig_mat = []\n",
    "    for i in range(0, dim-reduce_dim):\n",
    "      new_eig_mat.append(eig_mat[i])\n",
    "    new_eig_mat = np.asarray(new_eig_mat) \n",
    "    print('New eigenvectors:\\n' + str(new_eig_mat))\n",
    "\n",
    "    # Project all samples to the new subspace:\n",
    "    proj_data = new_eig_mat.dot(data_stack)\n",
    "    print('Projected data shape:\\n' + str(proj_data.shape[1]) + ' rows, ' + str(proj_data.shape[0]) + ' columns')"
   ]
  },
  {
   "cell_type": "code",
   "execution_count": null,
   "metadata": {},
   "outputs": [],
   "source": []
  }
 ],
 "metadata": {
  "colab": {
   "collapsed_sections": [],
   "name": "PCA.ipynb",
   "provenance": [],
   "version": "0.3.2"
  },
  "kernelspec": {
   "display_name": "Python [conda env:root] *",
   "language": "python",
   "name": "conda-root-py"
  },
  "language_info": {
   "codemirror_mode": {
    "name": "ipython",
    "version": 2
   },
   "file_extension": ".py",
   "mimetype": "text/x-python",
   "name": "python",
   "nbconvert_exporter": "python",
   "pygments_lexer": "ipython2",
   "version": "2.7.16"
  },
  "widgets": {
   "state": {},
   "version": "1.1.2"
  }
 },
 "nbformat": 4,
 "nbformat_minor": 1
}
