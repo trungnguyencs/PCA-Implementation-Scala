{
 "cells": [
  {
   "cell_type": "code",
   "execution_count": 7,
   "metadata": {
    "collapsed": true
   },
   "outputs": [],
   "source": [
    "# Take the whole dataset consisting of d-dimensional samples ignoring the class labels\n",
    "# Compute the d-dimensional mean vector (i.e., the means for every dimension of the whole dataset)\n",
    "# Compute the scatter matrix (alternatively, the covariance matrix) of the whole data set\n",
    "# Compute eigenvectors (ee1,ee2,...,eed) and corresponding eigenvalues (λλ1,λλ2,...,λλd)\n",
    "# Sort the eigenvectors by decreasing eigenvalues and choose k eigenvectors with the largest eigenvalues \n",
    "# to form a d×k dimensional matrix WW(where every column represents an eigenvector)\n",
    "# Use this d×k eigenvector matrix to transform the samples onto the new subspace. \n",
    "# This can be summarized by the mathematical equation: yy=WWT×xx (where xx is a d×1-dimensional vector \n",
    "# representing one sample, and yy is the transformed k×1-dimensional sample in the new subspace.)\n",
    "\n",
    "import numpy as np"
   ]
  },
  {
   "cell_type": "code",
   "execution_count": 3,
   "metadata": {
    "collapsed": true
   },
   "outputs": [],
   "source": []
  },
  {
   "cell_type": "code",
   "execution_count": null,
   "metadata": {
    "collapsed": true
   },
   "outputs": [],
   "source": []
  }
 ],
 "metadata": {
  "kernelspec": {
   "display_name": "Python [conda env:anaconda]",
   "language": "python",
   "name": "conda-env-anaconda-py"
  },
  "language_info": {
   "codemirror_mode": {
    "name": "ipython",
    "version": 2
   },
   "file_extension": ".py",
   "mimetype": "text/x-python",
   "name": "python",
   "nbconvert_exporter": "python",
   "pygments_lexer": "ipython2",
   "version": "2.7.6"
  }
 },
 "nbformat": 4,
 "nbformat_minor": 2
}
