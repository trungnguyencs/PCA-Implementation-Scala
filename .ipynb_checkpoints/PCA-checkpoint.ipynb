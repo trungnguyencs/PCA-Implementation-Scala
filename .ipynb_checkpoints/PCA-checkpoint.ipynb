{
 "cells": [
  {
   "cell_type": "code",
   "execution_count": 0,
   "metadata": {
    "colab": {},
    "colab_type": "code",
    "id": "SzuTG7UjzGMM"
   },
   "outputs": [],
   "source": [
    "import numpy as np"
   ]
  },
  {
   "cell_type": "code",
   "execution_count": 2,
   "metadata": {
    "colab": {
     "base_uri": "https://localhost:8080/",
     "height": 34
    },
    "colab_type": "code",
    "executionInfo": {
     "elapsed": 411,
     "status": "ok",
     "timestamp": 1558223706757,
     "user": {
      "displayName": "Trung Nguyen",
      "photoUrl": "https://lh3.googleusercontent.com/-SBogivorgz8/AAAAAAAAAAI/AAAAAAAAADk/9nq_Lw1GTw4/s64/photo.jpg",
      "userId": "08914153943672383446"
     },
     "user_tz": 420
    },
    "id": "Zsw6gID2zN1j",
    "outputId": "5eb998a0-8739-4f02-f9de-2f0d50221b6d"
   },
   "outputs": [
    {
     "name": "stdout",
     "output_type": "stream",
     "text": [
      "(4, 200)\n"
     ]
    }
   ],
   "source": [
    "# Generate data input\n",
    "np.random.seed(2019)\n",
    "dim = 4\n",
    "total_class = 2\n",
    "total_sample = 100\n",
    "data = []\n",
    "reduce_dim = 2\n",
    "\n",
    "for i in range(total_class):\n",
    "  mean_vec = np.ones(dim)*i\n",
    "  cov_mat = np.identity(dim)\n",
    "  class_sample = np.random.multivariate_normal(mean_vec, cov_mat, total_sample).T\n",
    "  data.append(class_sample)\n",
    "data = np.asarray(data)\n",
    "\n",
    "# Ignoring class label\n",
    "data_stack = np.reshape(data, (dim, total_class*total_sample))\n",
    "\n",
    "print(np.shape(data_stack))"
   ]
  },
  {
   "cell_type": "code",
   "execution_count": 3,
   "metadata": {
    "colab": {
     "base_uri": "https://localhost:8080/",
     "height": 34
    },
    "colab_type": "code",
    "executionInfo": {
     "elapsed": 404,
     "status": "ok",
     "timestamp": 1558223706759,
     "user": {
      "displayName": "Trung Nguyen",
      "photoUrl": "https://lh3.googleusercontent.com/-SBogivorgz8/AAAAAAAAAAI/AAAAAAAAADk/9nq_Lw1GTw4/s64/photo.jpg",
      "userId": "08914153943672383446"
     },
     "user_tz": 420
    },
    "id": "8wSJ3zq8H5Qv",
    "outputId": "e1fac44e-68dd-4fa4-d7d7-260c93886c62"
   },
   "outputs": [
    {
     "name": "stdout",
     "output_type": "stream",
     "text": [
      "[-0.04871638  0.03771309  1.08386071  0.94384264]\n"
     ]
    }
   ],
   "source": [
    "# Geting the mean vector\n",
    "mean_vec = np.average(data_stack, axis=1)\n",
    "print(mean_vec)"
   ]
  },
  {
   "cell_type": "code",
   "execution_count": 4,
   "metadata": {
    "colab": {
     "base_uri": "https://localhost:8080/",
     "height": 102
    },
    "colab_type": "code",
    "executionInfo": {
     "elapsed": 397,
     "status": "ok",
     "timestamp": 1558223706760,
     "user": {
      "displayName": "Trung Nguyen",
      "photoUrl": "https://lh3.googleusercontent.com/-SBogivorgz8/AAAAAAAAAAI/AAAAAAAAADk/9nq_Lw1GTw4/s64/photo.jpg",
      "userId": "08914153943672383446"
     },
     "user_tz": 420
    },
    "id": "QWOkerDIMyAB",
    "outputId": "ce9790a7-1b76-43bd-b68e-27609324d70a"
   },
   "outputs": [
    {
     "name": "stdout",
     "output_type": "stream",
     "text": [
      "Scatter Matrix:\n",
      " [[ 12.43387118   8.14619893  -6.62810332  -1.01678081]\n",
      " [  8.14619893  27.56950802 -10.82534438  -8.61858513]\n",
      " [ -6.62810332 -10.82534438  38.86807884  19.55556185]\n",
      " [ -1.01678081  -8.61858513  19.55556185  16.69238294]]\n"
     ]
    }
   ],
   "source": [
    "# Computing the Scatter Matrix\n",
    "scatter_mat = np.zeros((dim,dim))\n",
    "for i in range(dim):\n",
    "    scatter_mat += (data_stack[:,i].reshape(dim,1) - mean_vec).dot((data_stack[:,i].reshape(dim,1) - mean_vec).T)\n",
    "print('Scatter Matrix:\\n', scatter_mat)"
   ]
  },
  {
   "cell_type": "code",
   "execution_count": 5,
   "metadata": {
    "colab": {
     "base_uri": "https://localhost:8080/",
     "height": 136
    },
    "colab_type": "code",
    "executionInfo": {
     "elapsed": 393,
     "status": "ok",
     "timestamp": 1558223706762,
     "user": {
      "displayName": "Trung Nguyen",
      "photoUrl": "https://lh3.googleusercontent.com/-SBogivorgz8/AAAAAAAAAAI/AAAAAAAAADk/9nq_Lw1GTw4/s64/photo.jpg",
      "userId": "08914153943672383446"
     },
     "user_tz": 420
    },
    "id": "7J9i5rcJPzmB",
    "outputId": "b25091eb-8ba8-453d-83a4-476cc796d5b8"
   },
   "outputs": [
    {
     "name": "stdout",
     "output_type": "stream",
     "text": [
      "Scatter values:\n",
      " [58.52485595 22.89624789  3.53122913 10.61150801]\n",
      "Scatter vectors:\n",
      " [[ 0.19595981  0.33292571 -0.44134837  0.80992089]\n",
      " [ 0.43972747  0.80973245  0.22587454 -0.31615471]\n",
      " [-0.75356854  0.43854765 -0.43086555 -0.23273439]\n",
      " [-0.44763151  0.20290338  0.75402069  0.43578556]]\n"
     ]
    }
   ],
   "source": [
    "# Computing the Eigenvalues and Eigenvectors\n",
    "eig_val, eig_mat = np.linalg.eig(scatter_mat)\n",
    "print('Scatter values:\\n', eig_val)\n",
    "print('Scatter vectors:\\n', eig_mat)"
   ]
  },
  {
   "cell_type": "code",
   "execution_count": 17,
   "metadata": {
    "colab": {
     "base_uri": "https://localhost:8080/",
     "height": 51
    },
    "colab_type": "code",
    "executionInfo": {
     "elapsed": 394,
     "status": "ok",
     "timestamp": 1558223875961,
     "user": {
      "displayName": "Trung Nguyen",
      "photoUrl": "https://lh3.googleusercontent.com/-SBogivorgz8/AAAAAAAAAAI/AAAAAAAAADk/9nq_Lw1GTw4/s64/photo.jpg",
      "userId": "08914153943672383446"
     },
     "user_tz": 420
    },
    "id": "l7XwADuATHmN",
    "outputId": "b1662314-6c2b-4fc6-f111-a06a35325b60"
   },
   "outputs": [
    {
     "data": {
      "text/plain": [
       "array([[ 0.19595981,  0.33292571, -0.44134837,  0.80992089],\n",
       "       [ 0.43972747,  0.80973245,  0.22587454, -0.31615471]])"
      ]
     },
     "execution_count": 17,
     "metadata": {
      "tags": []
     },
     "output_type": "execute_result"
    }
   ],
   "source": [
    "# Sort the Eigenvalues in decreasing order\n",
    "np.argsort(np.abs(eig_val))[::-1]\n",
    "\n",
    "# Reduce (reduce_dim) dimensions: Take only (dim-reduce_dim) scatter vectors to put in the new eigen matrix\n",
    "new_eig_mat = []\n",
    "for i in range(0, dim-reduce_dim):\n",
    "  new_eig_mat.append(eig_mat[i])\n",
    "new_eig_mat = np.asarray(new_eig_mat) \n",
    "new_eig_mat"
   ]
  },
  {
   "cell_type": "code",
   "execution_count": 24,
   "metadata": {
    "colab": {
     "base_uri": "https://localhost:8080/",
     "height": 34
    },
    "colab_type": "code",
    "executionInfo": {
     "elapsed": 300,
     "status": "ok",
     "timestamp": 1558224053900,
     "user": {
      "displayName": "Trung Nguyen",
      "photoUrl": "https://lh3.googleusercontent.com/-SBogivorgz8/AAAAAAAAAAI/AAAAAAAAADk/9nq_Lw1GTw4/s64/photo.jpg",
      "userId": "08914153943672383446"
     },
     "user_tz": 420
    },
    "id": "yVx3xf9OTs4B",
    "outputId": "7715fc11-4d50-42f1-8361-2867b69c55be"
   },
   "outputs": [
    {
     "data": {
      "text/plain": [
       "(2, 200)"
      ]
     },
     "execution_count": 24,
     "metadata": {
      "tags": []
     },
     "output_type": "execute_result"
    }
   ],
   "source": [
    "# Project all samples to the new subspace:\n",
    "proj_data = new_eig_mat.dot(data_stack)\n",
    "proj_data.shape"
   ]
  },
  {
   "cell_type": "code",
   "execution_count": 0,
   "metadata": {
    "colab": {},
    "colab_type": "code",
    "id": "_zdD-cwQUe0P"
   },
   "outputs": [],
   "source": []
  }
 ],
 "metadata": {
  "colab": {
   "collapsed_sections": [],
   "name": "PCA.ipynb",
   "provenance": [],
   "version": "0.3.2"
  },
  "kernelspec": {
   "display_name": "Python [conda env:root] *",
   "language": "python",
   "name": "conda-root-py"
  },
  "language_info": {
   "codemirror_mode": {
    "name": "ipython",
    "version": 2
   },
   "file_extension": ".py",
   "mimetype": "text/x-python",
   "name": "python",
   "nbconvert_exporter": "python",
   "pygments_lexer": "ipython2",
   "version": "2.7.16"
  },
  "widgets": {
   "state": {},
   "version": "1.1.2"
  }
 },
 "nbformat": 4,
 "nbformat_minor": 1
}
